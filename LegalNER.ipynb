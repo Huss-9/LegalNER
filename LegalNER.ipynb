{
 "cells": [
  {
   "cell_type": "code",
   "execution_count": null,
   "metadata": {},
   "outputs": [],
   "source": [
    "import spacy\n",
    "from spacy.tokens import DocBin\n",
    "import numpy as np\n",
    "import matplotlib.pyplot as plt\n",
    "import seaborn as sns\n",
    "import pandas as pd\n",
    "import json\n",
    "from datasets import load_dataset\n",
    "from collections import defaultdict"
   ]
  },
  {
   "cell_type": "markdown",
   "metadata": {},
   "source": [
    "### Testing data"
   ]
  },
  {
   "cell_type": "code",
   "execution_count": null,
   "metadata": {},
   "outputs": [],
   "source": [
    "\n",
    "# Load spaCy's language model if necessary (for example, the English model)\n",
    "nlp = spacy.blank(\"en\")  # Replace \"en\" with the appropriate language code\n",
    "\n",
    "# Load your .spacy file\n",
    "train_doc_bin = DocBin().from_disk(\"data/train.spacy\")\n",
    "dev_doc_bin = DocBin().from_disk(\"data/dev.spacy\")\n",
    "# Deserialize the docs\n",
    "train_docs = list(train_doc_bin.get_docs(nlp.vocab))\n",
    "dev_docs = list(dev_doc_bin.get_docs(nlp.vocab))"
   ]
  },
  {
   "cell_type": "code",
   "execution_count": null,
   "metadata": {},
   "outputs": [],
   "source": [
    "# Now you can work with the docs\n",
    "for doc in train_docs[2:3]:\n",
    "    for ent in doc.ents:\n",
    "        print(ent.text, ent.label_)"
   ]
  },
  {
   "cell_type": "code",
   "execution_count": null,
   "metadata": {},
   "outputs": [],
   "source": [
    "def getLabelsCounts(docs):\n",
    "    labels = []\n",
    "    for doc in docs:\n",
    "        for ent in doc.ents:\n",
    "            labels.append(ent.label_)\n",
    "\n",
    "    # Convert the list of labels to a NumPy array\n",
    "    labels_array = np.array(labels)\n",
    "    unique_labels, counts = np.unique(labels_array, return_counts=True)\n",
    "    counts = dict(zip(unique_labels, counts))\n",
    "    return counts"
   ]
  },
  {
   "cell_type": "code",
   "execution_count": null,
   "metadata": {},
   "outputs": [],
   "source": [
    "trainLabelsCounts = getLabelsCounts(train_docs)\n",
    "devLabelsCounts = getLabelsCounts(dev_docs)"
   ]
  },
  {
   "cell_type": "code",
   "execution_count": null,
   "metadata": {},
   "outputs": [],
   "source": [
    "def saveLabelsPie(LabelsCounts, name):\n",
    "    plt.figure(figsize=(8, 8))\n",
    "    colors = plt.cm.hsv(np.linspace(0, 1, len(LabelsCounts)))\n",
    "    patches, texts, autotexts = plt.pie(LabelsCounts.values(), labels=LabelsCounts.keys(), \n",
    "            autopct='%1.1f%%', \n",
    "            colors=colors, \n",
    "            startangle=60,\n",
    "            wedgeprops=dict(edgecolor='w'))\n",
    "    for text in texts + autotexts:\n",
    "        text.set_fontsize(9)\n",
    "    plt.axis('equal')  # Equal aspect ratio ensures the pie chart is circular.\n",
    "    plt.title(name, pad=30, fontdict = {'fontsize':20, 'fontstyle' : 'oblique'})\n",
    "    plt.savefig(f\"./plots/{name}.png\", bbox_inches='tight', transparent=True)\n",
    "    plt.show()\n",
    "\n"
   ]
  },
  {
   "cell_type": "code",
   "execution_count": null,
   "metadata": {},
   "outputs": [],
   "source": [
    "saveLabelsPie(trainLabelsCounts, \"Named entity proportions in training\")\n",
    "saveLabelsPie(devLabelsCounts, \"Named entity proportions in development\")"
   ]
  },
  {
   "cell_type": "markdown",
   "metadata": {},
   "source": [
    "### Creating train and dev csv"
   ]
  },
  {
   "cell_type": "code",
   "execution_count": null,
   "metadata": {},
   "outputs": [],
   "source": [
    "import spacy\n",
    "import pandas as pd\n",
    "from collections import defaultdict\n",
    "import re\n",
    "\n",
    "def format_text(text):\n",
    "    # Replace multiple spaces with a single space\n",
    "    text = re.sub(r'\\s+', ' ', text)\n",
    "    text = text.replace('\\n', ' ')\n",
    "    # Strip leading and trailing whitespace\n",
    "    text = text.strip()\n",
    "    return text\n",
    "\n",
    "# Load your .spacy file\n",
    "def load_spacy_file(file_path):\n",
    "    nlp = spacy.blank(\"en\")  # replace \"en\" with your model's language if different\n",
    "    docs = DocBin().from_disk(file_path)\n",
    "    return list(docs.get_docs(nlp.vocab))\n",
    "    # return list(nlp.from_disk(file_path))\n",
    "\n",
    "# Process documents and extract entities\n",
    "# def process_docs(docs):\n",
    "#     data = []\n",
    "#     for doc in docs:\n",
    "#         text = doc.text\n",
    "#         entities = defaultdict(set)\n",
    "#         for ent in doc.ents:\n",
    "#             entities[ent.label_].add(format_text(ent.text))\n",
    "#         entities = {label: list(ents) for label, ents in entities.items()}\n",
    "#         data.append([text, entities])\n",
    "#     return data\n",
    "\n",
    "\n",
    "def process_docs(docs):\n",
    "    data = []\n",
    "    for doc in docs:\n",
    "        text = doc.text\n",
    "        # Using a dict to maintain insertion order and uniqueness\n",
    "        entities = defaultdict(dict)\n",
    "        for ent in doc.ents:\n",
    "            # if \"Nar\" in ent.text and \"Sing\" in ent.text:\n",
    "            #     print(ent.text, format_text(ent.text))\n",
    "            entities[ent.label_][format_text(ent.text)] = None  # Key is the entity, value is a placeholder\n",
    "        # Extracting the keys (unique entities) from each dictionary\n",
    "        entities = {label: list(ents.keys()) for label, ents in entities.items()}\n",
    "        data.append([text, entities])\n",
    "    return data\n",
    "\n",
    "# Convert to DataFrame\n",
    "def to_dataframe(data):\n",
    "    # Find all unique entity labels\n",
    "    all_labels = set()\n",
    "    for _, entities in data:\n",
    "        all_labels.update(entities.keys())\n",
    "    all_labels = sorted(all_labels)\n",
    "\n",
    "    # Create DataFrame\n",
    "    df_data = []\n",
    "    for text, entities in data:\n",
    "        row = [format_text(text)] + [entities.get(label, []) for label in all_labels]\n",
    "        df_data.append(row)\n",
    "\n",
    "    columns = ['sentence'] + all_labels\n",
    "    return pd.DataFrame(df_data, columns=columns)\n",
    "\n",
    "# Load data\n",
    "train_docs = load_spacy_file('data/train.spacy')\n",
    "dev_docs = load_spacy_file('data/dev.spacy')\n",
    "\n",
    "# Process documents\n",
    "train_data = process_docs(train_docs)\n",
    "dev_data = process_docs(dev_docs)\n",
    "\n",
    "# Convert to DataFrame\n",
    "train_df = to_dataframe(train_data)\n",
    "dev_df = to_dataframe(dev_data)\n",
    "\n",
    "# Export to CSV (optional)\n",
    "train_df.to_csv('./data/raw/train_data.csv', index=False)\n",
    "dev_df.to_csv('./data/raw/dev_data.csv', index=False)\n"
   ]
  },
  {
   "cell_type": "code",
   "execution_count": null,
   "metadata": {},
   "outputs": [],
   "source": [
    "train = pd.read_csv(\"./data/raw/train_data.csv\")\n",
    "test = pd.read_csv(\"./data/raw/dev_data.csv\")"
   ]
  },
  {
   "cell_type": "code",
   "execution_count": null,
   "metadata": {},
   "outputs": [],
   "source": [
    "dev = train.sample(frac=0.1, random_state=42) # random_state for reproducibility\n",
    "train = train.drop(dev.index)"
   ]
  },
  {
   "cell_type": "code",
   "execution_count": null,
   "metadata": {},
   "outputs": [],
   "source": [
    "print(test['sentence'].iloc[900])\n",
    "print(train.iloc[900])"
   ]
  },
  {
   "cell_type": "code",
   "execution_count": null,
   "metadata": {},
   "outputs": [],
   "source": [
    "print(dev['sentence'].iloc[-4])\n",
    "print(dev.iloc[-4])"
   ]
  },
  {
   "cell_type": "markdown",
   "metadata": {},
   "source": [
    "### Creating dataset that contains the prompts"
   ]
  },
  {
   "cell_type": "code",
   "execution_count": null,
   "metadata": {},
   "outputs": [],
   "source": [
    "def create_raw_entities_column(df):\n",
    "    def entities_to_string(row):\n",
    "        # Build a dictionary of non-empty entity categories\n",
    "        entities_dict = {category: entities for category, entities in row.items() if entities!= \"[]\" and category != 'sentence' and \"entities\" not in category }\n",
    "        # Convert the dictionary to a JSON string\n",
    "        return json.dumps(entities_dict, ensure_ascii=False)\n",
    "\n",
    "    # Apply the function to each row and create the new column\n",
    "    df['raw_entities'] = df.apply(entities_to_string, axis=1)\n",
    "    return df\n",
    "\n",
    "def create_dict_column(df):\n",
    "    # Function to convert a JSON string to a dictionary\n",
    "    def string_to_dict(json_str):\n",
    "        try:\n",
    "            return json.loads(json_str)\n",
    "        except json.JSONDecodeError:\n",
    "            return {}  # Returns an empty dictionary in case of a decoding error\n",
    "\n",
    "    # Apply the function to the 'raw_entities' column to create a new dictionary column\n",
    "    df['entities_dict'] = df['raw_entities'].apply(string_to_dict)\n",
    "    return df"
   ]
  },
  {
   "cell_type": "code",
   "execution_count": null,
   "metadata": {},
   "outputs": [],
   "source": [
    "train_data = create_raw_entities_column(train)\n",
    "dev_data = create_raw_entities_column(dev)\n",
    "test_data = create_raw_entities_column(test)"
   ]
  },
  {
   "cell_type": "code",
   "execution_count": null,
   "metadata": {},
   "outputs": [],
   "source": [
    "train_data = create_dict_column(train_data)\n",
    "\n",
    "dev_data = create_dict_column(dev_data)\n",
    "\n",
    "test_data = create_dict_column(test_data)"
   ]
  },
  {
   "cell_type": "code",
   "execution_count": null,
   "metadata": {},
   "outputs": [],
   "source": [
    "dev_data['raw_entities'].iloc[-4]"
   ]
  },
  {
   "cell_type": "code",
   "execution_count": null,
   "metadata": {},
   "outputs": [],
   "source": [
    "train_data['entities_dict'].iloc[-6]"
   ]
  },
  {
   "cell_type": "code",
   "execution_count": null,
   "metadata": {},
   "outputs": [],
   "source": [
    "len(train_data), len(dev_data), len(test_data)"
   ]
  },
  {
   "cell_type": "code",
   "execution_count": null,
   "metadata": {},
   "outputs": [],
   "source": [
    "def create_text_col(row):\n",
    "    instruction = \"You are solving the NER problem. You have to extract from the text, words related to each of the following categories: CASE_NUMBER, COURT, DATE, GPE, JUDGE, LAWYER, ORG, OTHER_PERSON, PETITIONER, PRECEDENT, PROVISION, RESPONDENT, STATUTE, WITNESS. Extract them exactly as they are in the text (Don't format them). Your output always should be a dictionary, if there aren't any entities in the text, just return an empty dictionary once.\"\n",
    "    text_row = f\"\"\"<s> [INST] {instruction} Find the entities in the following text: {row['sentence']} [/INST]\\n {row['raw_entities']} </s>\"\"\"\n",
    "    return text_row"
   ]
  },
  {
   "cell_type": "code",
   "execution_count": null,
   "metadata": {},
   "outputs": [],
   "source": [
    "train_data['text'] = train_data.apply(create_text_col, axis=1)\n",
    "dev_data['text'] = dev_data.apply(create_text_col, axis=1)\n",
    "test_data['text'] = test_data.apply(create_text_col, axis=1)"
   ]
  },
  {
   "cell_type": "code",
   "execution_count": null,
   "metadata": {},
   "outputs": [],
   "source": [
    "# train_data['train'] = train_data['raw_entities']\n",
    "# dev_data['train'] = dev_data['raw_entities']\n",
    "# test_data['train'] = test_data['raw_entities']\n",
    "\n",
    "# train_data['test'] = train_data['raw_entities']\n",
    "# dev_data['test'] = dev_data['raw_entities']\n",
    "# test_data['test'] = test_data['raw_entities']"
   ]
  },
  {
   "cell_type": "code",
   "execution_count": null,
   "metadata": {},
   "outputs": [],
   "source": [
    "selected_columns = ['sentence', 'raw_entities', 'text']\n",
    "train_data = train_data[selected_columns]\n",
    "dev_data = dev_data[selected_columns]\n",
    "test_data = test_data[selected_columns]"
   ]
  },
  {
   "cell_type": "code",
   "execution_count": null,
   "metadata": {},
   "outputs": [],
   "source": [
    "test_data['raw_entities'].iloc[0]"
   ]
  },
  {
   "cell_type": "code",
   "execution_count": null,
   "metadata": {},
   "outputs": [],
   "source": [
    "test_data['text'].iloc[0]"
   ]
  },
  {
   "cell_type": "code",
   "execution_count": null,
   "metadata": {},
   "outputs": [],
   "source": [
    "path = \"./Data/Finetuning/\""
   ]
  },
  {
   "cell_type": "code",
   "execution_count": null,
   "metadata": {},
   "outputs": [],
   "source": [
    "\n",
    "train_data.to_csv(path+'train.csv', index=False)\n",
    "dev_data.to_csv(path+'dev.csv', index=False)\n",
    "test_data.to_csv(path+'test.csv', index=False)"
   ]
  },
  {
   "cell_type": "markdown",
   "metadata": {},
   "source": [
    "### Training mistral to do ner"
   ]
  },
  {
   "cell_type": "code",
   "execution_count": null,
   "metadata": {},
   "outputs": [],
   "source": [
    "new_model = \"mistral-ner\" #set the name of the new model\n",
    "\n",
    "################################################################################\n",
    "# QLoRA parameters\n",
    "################################################################################\n",
    "\n",
    "# LoRA attention dimension\n",
    "lora_r = 64\n",
    "\n",
    "# Alpha parameter for LoRA scaling\n",
    "lora_alpha = 16\n",
    "\n",
    "# Dropout probability for LoRA layers\n",
    "lora_dropout = 0.1\n",
    "\n",
    "################################################################################\n",
    "# bitsandbytes parameters\n",
    "################################################################################\n",
    "\n",
    "# Activate 4-bit precision base model loading\n",
    "use_4bit = True\n",
    "\n",
    "# Compute dtype for 4-bit base models\n",
    "bnb_4bit_compute_dtype = \"float16\"\n",
    "\n",
    "# Quantization type (fp4 or nf4)\n",
    "bnb_4bit_quant_type = \"nf4\"\n",
    "\n",
    "# Activate nested quantization for 4-bit base models (double quantization)\n",
    "use_nested_quant = False\n",
    "\n",
    "################################################################################\n",
    "# TrainingArguments parameters\n",
    "################################################################################\n",
    "\n",
    "# Output directory where the model predictions and checkpoints will be stored\n",
    "output_dir = \"./results\"\n",
    "\n",
    "# Number of training epochs\n",
    "num_train_epochs = 1\n",
    "\n",
    "# Enable fp16/bf16 training (set bf16 to True with an A100)\n",
    "fp16 = False\n",
    "bf16 = False\n",
    "\n",
    "# Batch size per GPU for training\n",
    "per_device_train_batch_size = 4\n",
    "\n",
    "# Batch size per GPU for evaluation\n",
    "per_device_eval_batch_size = 4\n",
    "\n",
    "# Number of update steps to accumulate the gradients for\n",
    "gradient_accumulation_steps = 1\n",
    "\n",
    "# Enable gradient checkpointing\n",
    "gradient_checkpointing = True\n",
    "\n",
    "# Maximum gradient normal (gradient clipping)\n",
    "max_grad_norm = 0.3\n",
    "\n",
    "# Initial learning rate (AdamW optimizer)\n",
    "learning_rate = 2e-4\n",
    "\n",
    "# Weight decay to apply to all layers except bias/LayerNorm weights\n",
    "weight_decay = 0.001\n",
    "\n",
    "# Optimizer to use\n",
    "optim = \"paged_adamw_32bit\"\n",
    "\n",
    "# Learning rate schedule (constant a bit better than cosine)\n",
    "lr_scheduler_type = \"constant\"\n",
    "\n",
    "# Number of training steps (overrides num_train_epochs)\n",
    "max_steps = -1\n",
    "\n",
    "# Ratio of steps for a linear warmup (from 0 to learning rate)\n",
    "warmup_ratio = 0.03\n",
    "\n",
    "# Group sequences into batches with same length\n",
    "# Saves memory and speeds up training considerably\n",
    "group_by_length = True\n",
    "\n",
    "# Save checkpoint every X updates steps\n",
    "save_steps = 25\n",
    "\n",
    "# Log every X updates steps\n",
    "logging_steps = 25\n",
    "\n",
    "################################################################################\n",
    "# SFT parameters\n",
    "################################################################################\n",
    "\n",
    "# Maximum sequence length to use\n",
    "max_seq_length = None\n",
    "\n",
    "# Pack multiple short examples in the same input sequence to increase efficiency\n",
    "packing = False\n",
    "\n",
    "# Load the entire model on the GPU 0\n",
    "device_map = {\"\": 0}"
   ]
  },
  {
   "cell_type": "code",
   "execution_count": null,
   "metadata": {},
   "outputs": [],
   "source": [
    "path = \"./Data/Finetuning/\"\n",
    "data_files = {\"train\": path+\"train.csv\", \"test\": path+\"test.csv\"}\n",
    "mistral_train_data = load_dataset('csv', data_files=data_files)"
   ]
  },
  {
   "cell_type": "code",
   "execution_count": null,
   "metadata": {},
   "outputs": [],
   "source": [
    "# !pip install -q torch\n",
    "# !pip install -q git+https://github.com/huggingface/transformers #huggingface transformers for downloading models weights\n",
    "# !pip install -q datasets #huggingface datasets to download and manipulate datasets\n",
    "# !pip install -q peft #Parameter efficient finetuning - for qLora Finetuning\n",
    "# !pip install -q bitsandbytes #For Model weights quantisation\n",
    "# !pip install -q trl #Transformer Reinforcement Learning - For Finetuning using Supervised Fine-tuning\n",
    "# !pip install -q wandb -U #Used to monitor the model score during training"
   ]
  },
  {
   "cell_type": "code",
   "execution_count": null,
   "metadata": {},
   "outputs": [],
   "source": [
    "import torch\n",
    "from datasets import Dataset, load_dataset\n",
    "from huggingface_hub import notebook_login\n",
    "from peft import LoraConfig, PeftModel\n",
    "from transformers import (\n",
    "    AutoModelForCausalLM,\n",
    "    AutoTokenizer,\n",
    "    BitsAndBytesConfig,\n",
    "    TrainingArguments,\n",
    "    pipeline,\n",
    "    logging,\n",
    ")\n",
    "from trl import SFTTrainer"
   ]
  },
  {
   "cell_type": "code",
   "execution_count": null,
   "metadata": {},
   "outputs": [],
   "source": [
    "# model_name = \"TheBloke/Mistral-7B-Instruct-v0.1-GGUF\"\n",
    "# model_file = \"mistral-7b-instruct-v0.1.Q4_K_M.gguf\"\n",
    "model_name = \"mistralai/Mistral-7B-Instruct-v0.1\"\n",
    "\n",
    "# Load the base model with QLoRA configuration\n",
    "compute_dtype = getattr(torch, bnb_4bit_compute_dtype)\n",
    "\n",
    "bnb_config = BitsAndBytesConfig(\n",
    "    load_in_4bit=use_4bit,\n",
    "    bnb_4bit_quant_type=bnb_4bit_quant_type,\n",
    "    bnb_4bit_compute_dtype=compute_dtype,\n",
    "    bnb_4bit_use_double_quant=use_nested_quant,\n",
    ")\n",
    "\n",
    "base_model = AutoModelForCausalLM.from_pretrained(\n",
    "    model_name,\n",
    "    quantization_config=bnb_config,\n",
    "    device_map={\"\": 0}\n",
    ")\n",
    "# base_model = AutoModelForCausalLM.from_pretrained(model_name, model_file=model_file, model_type=\"mistral\", device_map={\"\": 0})\n",
    "\n",
    "base_model.config.use_cache = False\n",
    "base_model.config.pretraining_tp = 1\n",
    "\n",
    "# Load MitsralAi tokenizer\n",
    "tokenizer = AutoTokenizer.from_pretrained(model_name, trust_remote_code=True)\n",
    "tokenizer.pad_token = tokenizer.eos_token\n",
    "tokenizer.padding_side = \"right\""
   ]
  },
  {
   "cell_type": "code",
   "execution_count": null,
   "metadata": {},
   "outputs": [],
   "source": [
    "# Set LoRA configuration\n",
    "peft_config = LoraConfig(\n",
    "    lora_alpha=lora_alpha,\n",
    "    lora_dropout=lora_dropout,\n",
    "    r=lora_r,\n",
    "    target_modules=[\n",
    "        \"q_proj\",\n",
    "        \"k_proj\",\n",
    "        \"v_proj\",\n",
    "        \"o_proj\",\n",
    "        \"gate_proj\",\n",
    "        \"up_proj\",\n",
    "        \"down_proj\",\n",
    "        \"lm_head\",\n",
    "    ],\n",
    "    bias=\"none\",\n",
    "    task_type=\"CAUSAL_LM\",\n",
    ")\n",
    "\n",
    "# Set training parameters\n",
    "training_arguments = TrainingArguments(\n",
    "    output_dir=output_dir,\n",
    "    num_train_epochs=num_train_epochs,\n",
    "    per_device_train_batch_size=per_device_train_batch_size,\n",
    "    gradient_accumulation_steps=gradient_accumulation_steps,\n",
    "    optim=optim,\n",
    "    save_steps=save_steps,\n",
    "    logging_steps=logging_steps,\n",
    "    learning_rate=learning_rate,\n",
    "    weight_decay=weight_decay,\n",
    "    fp16=fp16,\n",
    "    bf16=bf16,\n",
    "    max_grad_norm=max_grad_norm,\n",
    "    max_steps=100, # the total number of training steps to perform\n",
    "    warmup_ratio=warmup_ratio,\n",
    "    group_by_length=group_by_length,\n",
    "    lr_scheduler_type=lr_scheduler_type,\n",
    "    report_to=\"tensorboard\"\n",
    ")\n",
    "\n",
    "# Initialize the SFTTrainer for fine-tuning\n",
    "trainer = SFTTrainer(\n",
    "    model=base_model,\n",
    "    train_dataset=mistral_train_data['train'],\n",
    "    eval_dataset=mistral_train_data['test'],\n",
    "    peft_config=peft_config,\n",
    "    dataset_text_field=\"text\",\n",
    "    max_seq_length=max_seq_length,  # You can specify the maximum sequence length here\n",
    "    tokenizer=tokenizer,\n",
    "    args=training_arguments,\n",
    "    packing=packing,\n",
    ")"
   ]
  },
  {
   "cell_type": "code",
   "execution_count": null,
   "metadata": {},
   "outputs": [],
   "source": [
    "trainer.train()"
   ]
  },
  {
   "cell_type": "code",
   "execution_count": null,
   "metadata": {},
   "outputs": [],
   "source": []
  }
 ],
 "metadata": {
  "kernelspec": {
   "display_name": ".venv",
   "language": "python",
   "name": "python3"
  },
  "language_info": {
   "codemirror_mode": {
    "name": "ipython",
    "version": 3
   },
   "file_extension": ".py",
   "mimetype": "text/x-python",
   "name": "python",
   "nbconvert_exporter": "python",
   "pygments_lexer": "ipython3",
   "version": "3.10.0rc2"
  }
 },
 "nbformat": 4,
 "nbformat_minor": 2
}
