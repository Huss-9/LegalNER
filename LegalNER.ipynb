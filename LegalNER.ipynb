{
 "cells": [
  {
   "cell_type": "code",
   "execution_count": null,
   "metadata": {},
   "outputs": [],
   "source": [
    "import spacy\n",
    "from spacy.tokens import DocBin\n",
    "import numpy as np\n",
    "import matplotlib.pyplot as plt\n",
    "import seaborn as sns\n"
   ]
  },
  {
   "cell_type": "code",
   "execution_count": null,
   "metadata": {},
   "outputs": [],
   "source": [
    "\n",
    "# Load spaCy's language model if necessary (for example, the English model)\n",
    "nlp = spacy.blank(\"en\")  # Replace \"en\" with the appropriate language code\n",
    "\n",
    "# Load your .spacy file\n",
    "train_doc_bin = DocBin().from_disk(\"Data/train.spacy\")\n",
    "dev_doc_bin = DocBin().from_disk(\"Data/dev.spacy\")\n",
    "# Deserialize the docs\n",
    "train_docs = list(train_doc_bin.get_docs(nlp.vocab))\n",
    "dev_docs = list(dev_doc_bin.get_docs(nlp.vocab))"
   ]
  },
  {
   "cell_type": "code",
   "execution_count": null,
   "metadata": {},
   "outputs": [],
   "source": [
    "# Now you can work with the docs\n",
    "for doc in train_docs:\n",
    "    for ent in doc.ents:\n",
    "        print(ent.text, ent.label_)"
   ]
  },
  {
   "cell_type": "code",
   "execution_count": null,
   "metadata": {},
   "outputs": [],
   "source": [
    "def getLabelsCounts(docs):\n",
    "    labels = []\n",
    "    for doc in docs:\n",
    "        for ent in doc.ents:\n",
    "            labels.append(ent.label_)\n",
    "\n",
    "    # Convert the list of labels to a NumPy array\n",
    "    labels_array = np.array(labels)\n",
    "    unique_labels, counts = np.unique(labels_array, return_counts=True)\n",
    "    counts = dict(zip(unique_labels, counts))\n",
    "    return counts"
   ]
  },
  {
   "cell_type": "code",
   "execution_count": null,
   "metadata": {},
   "outputs": [],
   "source": [
    "trainLabelsCounts = getLabelsCounts(train_docs)\n",
    "devLabelsCounts = getLabelsCounts(dev_docs)"
   ]
  },
  {
   "cell_type": "code",
   "execution_count": null,
   "metadata": {},
   "outputs": [],
   "source": [
    "def saveLabelsPie(LabelsCounts, name):\n",
    "    plt.figure(figsize=(8, 8))\n",
    "    colors = plt.cm.hsv(np.linspace(0, 1, len(LabelsCounts)))\n",
    "    patches, texts, autotexts = plt.pie(LabelsCounts.values(), labels=LabelsCounts.keys(), \n",
    "            autopct='%1.1f%%', \n",
    "            colors=colors, \n",
    "            startangle=60,\n",
    "            wedgeprops=dict(edgecolor='w'))\n",
    "    for text in texts + autotexts:\n",
    "        text.set_fontsize(9)\n",
    "    plt.axis('equal')  # Equal aspect ratio ensures the pie chart is circular.\n",
    "    plt.title(name, pad=30, fontdict = {'fontsize':20, 'fontstyle' : 'oblique'})\n",
    "    plt.savefig(f\"./Plots/{name}.png\", bbox_inches='tight', transparent=True)\n",
    "    plt.show()\n",
    "\n"
   ]
  },
  {
   "cell_type": "code",
   "execution_count": null,
   "metadata": {},
   "outputs": [],
   "source": [
    "saveLabelsPie(trainLabelsCounts, \"Named entity proportions in training\")\n",
    "saveLabelsPie(devLabelsCounts, \"Named entity proportions in development\")"
   ]
  },
  {
   "cell_type": "code",
   "execution_count": null,
   "metadata": {},
   "outputs": [],
   "source": []
  }
 ],
 "metadata": {
  "kernelspec": {
   "display_name": ".venv",
   "language": "python",
   "name": "python3"
  },
  "language_info": {
   "codemirror_mode": {
    "name": "ipython",
    "version": 3
   },
   "file_extension": ".py",
   "mimetype": "text/x-python",
   "name": "python",
   "nbconvert_exporter": "python",
   "pygments_lexer": "ipython3",
   "version": "3.12.0"
  }
 },
 "nbformat": 4,
 "nbformat_minor": 2
}
